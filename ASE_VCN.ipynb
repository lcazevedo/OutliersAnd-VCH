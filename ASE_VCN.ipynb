{
 "cells": [
  {
   "cell_type": "markdown",
   "id": "1fb4153c-6286-410b-a8de-4a17021f772d",
   "metadata": {},
   "source": [
    "# Comparison of VCH under different translations\n",
    "\n",
    "This notebook compares the volume of the convex hull (VCH) of structures from `ba10` and `nmd18` data set\n",
    "under different translations. Given a set of coordinates, VCH is invariant to rigid translations, such as tranlations, rotation and reflection. We use ASE for translating structures. \n",
    "\n",
    "The data can be download from https://qmml.org/datasets.html"
   ]
  },
  {
   "cell_type": "code",
   "execution_count": 1,
   "id": "e277592c-e8b2-4d86-842a-ab017ba76575",
   "metadata": {},
   "outputs": [],
   "source": [
    "from ase import Atoms\n",
    "from scipy.spatial import ConvexHull\n",
    "from tqdm.notebook import tqdm\n",
    "import numpy as np"
   ]
  },
  {
   "cell_type": "code",
   "execution_count": 2,
   "id": "c460c151-ce1b-46ef-9b21-88b1f72d61f1",
   "metadata": {},
   "outputs": [],
   "source": [
    "def read_file(fname):\n",
    "    with open(fname) as fin:\n",
    "        lines = filter(None, (line.rstrip() for line in fin))\n",
    "    \n",
    "        structures = []\n",
    "        for structure in tqdm(read_next_structure(lines)):\n",
    "            structures.append(structure)\n",
    "            \n",
    "    return(structures)"
   ]
  },
  {
   "cell_type": "code",
   "execution_count": 3,
   "id": "f01c0107-a395-431c-8ad7-0db65d5bcaf3",
   "metadata": {},
   "outputs": [],
   "source": [
    "def read_next_structure(lines):\n",
    "    \n",
    "    while(lines):\n",
    "    \n",
    "        try:\n",
    "            natoms =  int(next(lines))\n",
    "        except:\n",
    "            return\n",
    "        info = next(lines).split()\n",
    "        if len(info) == 4:\n",
    "            (name, method, p1, p2) = info\n",
    "        else:\n",
    "            (p1, p2, p3) = info\n",
    "        positions = []\n",
    "        symbols = []\n",
    "        for atom in range(natoms):\n",
    "            (symbol, x, y, z) = next(lines).split()\n",
    "            symbols.append(symbol)\n",
    "            positions.append([float(x), float(y), float(z)])\n",
    "        cell = []\n",
    "        for axis in range(3):\n",
    "            (x, y, z) = next(lines).split()\n",
    "            cell.append([float(x), float(y), float(z)])\n",
    "    \n",
    "        structure = Atoms(symbols = symbols,\n",
    "          positions = positions,\n",
    "          cell = cell,\n",
    "          pbc=True)\n",
    "        \n",
    "        yield(structure)"
   ]
  },
  {
   "cell_type": "code",
   "execution_count": 7,
   "id": "f3310b8d-e91a-45f5-99e7-bc80a938204e",
   "metadata": {},
   "outputs": [],
   "source": [
    "def get_volume(coordinates):\n",
    "    try: #is the system plannar?\n",
    "        volume = ConvexHull(coordinates).volume\n",
    "    except:\n",
    "        volume = 0\n",
    "    return volume\n",
    "    "
   ]
  },
  {
   "cell_type": "code",
   "execution_count": 9,
   "id": "78375382-a463-4a07-8764-802878ed0805",
   "metadata": {},
   "outputs": [
    {
     "data": {
      "application/vnd.jupyter.widget-view+json": {
       "model_id": "ea955c1a61ae43c1a9d8cb598343c1c2",
       "version_major": 2,
       "version_minor": 0
      },
      "text/plain": [
       "0it [00:00, ?it/s]"
      ]
     },
     "metadata": {},
     "output_type": "display_data"
    },
    {
     "data": {
      "application/vnd.jupyter.widget-view+json": {
       "model_id": "7937768deb3742c3a0db6ab2904b442f",
       "version_major": 2,
       "version_minor": 0
      },
      "text/plain": [
       "  0%|          | 0/15950 [00:00<?, ?it/s]"
      ]
     },
     "metadata": {},
     "output_type": "display_data"
    },
    {
     "name": "stdout",
     "output_type": "stream",
     "text": [
      "The maximum difference in VCH is:  2.6645352591003757e-13\n"
     ]
    }
   ],
   "source": [
    "max_diff = 0\n",
    "\n",
    "structures = read_file(\"ba10-18.xyz\")\n",
    "\n",
    "for structure in tqdm(structures):\n",
    "    volume = get_volume(structure.get_positions())\n",
    "    for p in range(10):\n",
    "        structure.translate(np.random.random(3)*10)\n",
    "        new_volume = get_volume(structure.get_positions())\n",
    "        if abs(new_volume - volume) > max_diff:\n",
    "            max_diff = abs(new_volume - volume)\n",
    "            \n",
    "print(\"The maximum difference in VCH is: \", max_diff)"
   ]
  },
  {
   "cell_type": "code",
   "execution_count": 10,
   "id": "6522da79-2881-48d8-bbcd-d9209976863e",
   "metadata": {},
   "outputs": [
    {
     "data": {
      "application/vnd.jupyter.widget-view+json": {
       "model_id": "676fbf01d870480382057f7ef631f157",
       "version_major": 2,
       "version_minor": 0
      },
      "text/plain": [
       "0it [00:00, ?it/s]"
      ]
     },
     "metadata": {},
     "output_type": "display_data"
    },
    {
     "data": {
      "application/vnd.jupyter.widget-view+json": {
       "model_id": "9c4a12cb75bd46088852067c3e39e7b2",
       "version_major": 2,
       "version_minor": 0
      },
      "text/plain": [
       "  0%|          | 0/3000 [00:00<?, ?it/s]"
      ]
     },
     "metadata": {},
     "output_type": "display_data"
    },
    {
     "name": "stdout",
     "output_type": "stream",
     "text": [
      "The maximum difference in VCH is:  2.2737367544323206e-12\n"
     ]
    }
   ],
   "source": [
    "max_diff = 0\n",
    "\n",
    "structures = read_file(\"nmd18r.xyz\")\n",
    "\n",
    "for structure in tqdm(structures):\n",
    "    volume = get_volume(structure.get_positions())\n",
    "    for p in range(10):\n",
    "        structure.translate(np.random.random(3)*10)\n",
    "        new_volume = get_volume(structure.get_positions())\n",
    "        if abs(new_volume - volume) > max_diff:\n",
    "            max_diff = abs(new_volume - volume)\n",
    "    \n",
    "print(\"The maximum difference in VCH is: \", max_diff)"
   ]
  },
  {
   "cell_type": "code",
   "execution_count": null,
   "id": "d252358c-e390-4c8d-bee6-142705dddec6",
   "metadata": {},
   "outputs": [],
   "source": []
  }
 ],
 "metadata": {
  "kernelspec": {
   "display_name": "Python 3 (ipykernel)",
   "language": "python",
   "name": "python3"
  },
  "language_info": {
   "codemirror_mode": {
    "name": "ipython",
    "version": 3
   },
   "file_extension": ".py",
   "mimetype": "text/x-python",
   "name": "python",
   "nbconvert_exporter": "python",
   "pygments_lexer": "ipython3",
   "version": "3.9.13"
  }
 },
 "nbformat": 4,
 "nbformat_minor": 5
}
